{
 "cells": [
  {
   "cell_type": "code",
   "execution_count": 7,
   "id": "8951b3ae",
   "metadata": {},
   "outputs": [],
   "source": [
    "import pickle\n",
    "import os \n",
    "import pandas as pd\n",
    "\n",
    "os.chdir ('C:\\\\Users\\\\Nilesh\\Documents\\\\Cancer Detection Project')\n",
    "data = pd.read_csv('Reports.csv')\n",
    "\n",
    "x= data.drop (labels='Actual diagnosis' ,axis =1 )\n",
    "x_norm = (x- x.mean()) / (x.max()- x.min())\n",
    "\n",
    "load_model =pickle.load(open(\"Random Forest\",\"rb\"))\n",
    "\n",
    "pred = load_model.predict(x_norm)\n",
    "pred=pred.astype(str)\n",
    "\n",
    "pred[pred==\"1\"]=\"Malignant\"\n",
    "pred[pred==\"0\"]=\"Benign\"\n",
    "\n",
    "data['Predictions'] = pred\n",
    "data.to_csv('Result.csv')"
   ]
  },
  {
   "cell_type": "code",
   "execution_count": null,
   "id": "beeb6fbd",
   "metadata": {},
   "outputs": [],
   "source": []
  }
 ],
 "metadata": {
  "kernelspec": {
   "display_name": "Python 3 (ipykernel)",
   "language": "python",
   "name": "python3"
  },
  "language_info": {
   "codemirror_mode": {
    "name": "ipython",
    "version": 3
   },
   "file_extension": ".py",
   "mimetype": "text/x-python",
   "name": "python",
   "nbconvert_exporter": "python",
   "pygments_lexer": "ipython3",
   "version": "3.9.12"
  }
 },
 "nbformat": 4,
 "nbformat_minor": 5
}
